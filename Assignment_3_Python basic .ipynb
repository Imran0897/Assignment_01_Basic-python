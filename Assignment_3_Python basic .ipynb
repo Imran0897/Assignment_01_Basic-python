{
 "cells": [
  {
   "cell_type": "markdown",
   "id": "2ccbb5d1",
   "metadata": {},
   "source": [
    "Ans1.\n",
    "\n",
    "1.The python Function help divide a program into modules.This makes the code easier to manage, debug, and scale.\n",
    "2.It implements code reuse.every time we need to execute a sequence of statements, all we need to do is to call the function.\n",
    "3.The python function allow us to change functionality easily."
   ]
  },
  {
   "cell_type": "markdown",
   "id": "0d35d18d",
   "metadata": {},
   "source": [
    "Ans2.\n",
    "\n",
    "The code runs when it is called."
   ]
  },
  {
   "cell_type": "markdown",
   "id": "e00c1697",
   "metadata": {},
   "source": [
    "Ans3.\n",
    "\n",
    "def - it create a function.\n",
    "eg. def sum():\n",
    "    def avg():"
   ]
  },
  {
   "cell_type": "markdown",
   "id": "242ee5a9",
   "metadata": {},
   "source": [
    "Ans4.\n",
    "\n",
    "A function is a block of code that does a particular operation and returns a result.it usually accepts inputs as parameters and returns a result.\n",
    "eg.\n",
    "   function sum(a,b):\n",
    "          return a+b\n",
    "          \n",
    "A function call is the code used to pass control to a function.\n",
    "eg.\n",
    "\n",
    "   b = sum(10,20)\n",
    "   "
   ]
  },
  {
   "cell_type": "markdown",
   "id": "e9eb1a0e",
   "metadata": {},
   "source": [
    "Ans5.\n",
    "\n",
    "There is one Global scopes in program python.there could be multiple local scopes."
   ]
  },
  {
   "cell_type": "markdown",
   "id": "de49e537",
   "metadata": {},
   "source": [
    "Ans6.\n",
    "\n",
    "when function call return , the local variable executes."
   ]
  },
  {
   "cell_type": "markdown",
   "id": "7a3953d7",
   "metadata": {},
   "source": [
    "Ans7.\n",
    "\n"
   ]
  },
  {
   "cell_type": "markdown",
   "id": "890d80d1",
   "metadata": {},
   "source": []
  }
 ],
 "metadata": {
  "kernelspec": {
   "display_name": "Python 3 (ipykernel)",
   "language": "python",
   "name": "python3"
  },
  "language_info": {
   "codemirror_mode": {
    "name": "ipython",
    "version": 3
   },
   "file_extension": ".py",
   "mimetype": "text/x-python",
   "name": "python",
   "nbconvert_exporter": "python",
   "pygments_lexer": "ipython3",
   "version": "3.9.7"
  }
 },
 "nbformat": 4,
 "nbformat_minor": 5
}
