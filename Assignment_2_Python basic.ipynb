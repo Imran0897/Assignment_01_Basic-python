{
 "cells": [
  {
   "cell_type": "markdown",
   "id": "f1581d92",
   "metadata": {},
   "source": [
    "Ans1.\n",
    "\n",
    "There are two possible values of boolean data type.\n",
    "(a) True\n",
    "(b) False\n",
    "\n",
    "True value is used when the expression is correct.\n",
    "1<=2\n",
    "False value is used when the expression is false.\n",
    "0==1"
   ]
  },
  {
   "cell_type": "markdown",
   "id": "a3a82b26",
   "metadata": {},
   "source": [
    "Ans2.\n",
    "\n",
    "There are three different type of boolean operators.\n",
    "(a)OR - The boolean OR operator returns True if one of the inputs is True else returns False.\n",
    "  \n",
    "(b)AND - The boolean AND operator returns False if one of the inputs is False else returns True.\n",
    " \n",
    "(c)NOT - The boolean Not operator only require one argument and returns the negatation of the argument i.e returns the True for False and False for True.\n",
    " "
   ]
  },
  {
   "cell_type": "markdown",
   "id": "06e4e369",
   "metadata": {},
   "source": [
    "Ans3.\n",
    "\n",
    "(a)OR Operator-\n",
    "   A        B     A or B\n",
    "  True    True     True\n",
    "  True    False    True\n",
    "  False   True     True\n",
    "  False   False    False\n",
    "  \n",
    "(b)AND Operator-\n",
    "   A        B     A and B\n",
    "  True    True     True\n",
    "  True    False    False\n",
    "  False   True     False\n",
    "  False   False    False\n",
    "\n",
    "(c) Not Operator-\n",
    "   A      Not \n",
    "  True    False\n",
    "  False   True"
   ]
  },
  {
   "cell_type": "markdown",
   "id": "35a18d3c",
   "metadata": {},
   "source": [
    "Ans4."
   ]
  },
  {
   "cell_type": "code",
   "execution_count": 10,
   "id": "6d6cc5e7",
   "metadata": {},
   "outputs": [
    {
     "name": "stdout",
     "output_type": "stream",
     "text": [
      "False\n",
      "False\n",
      "True\n",
      "False\n",
      "False\n",
      "True\n"
     ]
    }
   ],
   "source": [
    "print((5>4) and (3==5))\n",
    "print(not(5>4))\n",
    "print((5>4) or (3==5))\n",
    "print(not((5>4) or (3==5)))\n",
    "print((True and True) and (True==False))\n",
    "print((not False) or (not True))"
   ]
  },
  {
   "cell_type": "markdown",
   "id": "479afb42",
   "metadata": {},
   "source": [
    "Ans5.\n",
    "\n",
    "There are following six comparison operators\n",
    "(a) > Greater than: True if the left operand is greater than the right\n",
    "(b) < Less than: True if the left operand is less than the right\n",
    "(c) == Equal to: True if both operands are equal\n",
    "(d) != Not equal to – True if operands are not equal\n",
    "(e) >= Greater than or equal to: True if left operand is greater than or equal to the right\n",
    "(f) <= Less than or equal to: True if left operand is less than or equal to the right"
   ]
  },
  {
   "cell_type": "markdown",
   "id": "00be7122",
   "metadata": {},
   "source": [
    "Ans6.\n",
    "\n",
    "The \"=\" is an assignment operator is used to assign the value on the right to the variable on the left.\n",
    "eg.\n",
    "a=10\n",
    "\n",
    "The \"==\" operator checks whether the two given operands are equal or not.if so,it return True otherwise it return false.\n",
    "eg.\n",
    "10==10"
   ]
  },
  {
   "cell_type": "markdown",
   "id": "eafe5e7b",
   "metadata": {},
   "source": [
    "Ans7.\n",
    "\n",
    "Block 1-\n",
    "spam = 0\n",
    "if spam ==10:\n",
    "    print(\"eggs\")\n",
    " \n",
    "Block 2-\n",
    "if spam > 5:\n",
    "    print(\"bacon\")\n",
    "\n",
    "Block 3-    \n",
    "else:\n",
    "    print('ham')\n",
    "    print('spam')\n",
    "    print('spam')"
   ]
  },
  {
   "cell_type": "markdown",
   "id": "a10d7580",
   "metadata": {},
   "source": [
    "Ans8."
   ]
  },
  {
   "cell_type": "code",
   "execution_count": null,
   "id": "0055506b",
   "metadata": {},
   "outputs": [],
   "source": [
    "if spam ==1:\n",
    "    print(\"Hello\")\n",
    "if spam ==2:\n",
    "    print(\"Howdy\")\n",
    "else:\n",
    "    print(\"Greetings\")"
   ]
  },
  {
   "cell_type": "markdown",
   "id": "540b5bdd",
   "metadata": {},
   "source": [
    "Ans9.\n",
    "\n",
    "if programme is stuck in an endless loop then kernal can be restarted to end the loop or ctrl-C to stop a program stuck in an infinite loop."
   ]
  },
  {
   "cell_type": "markdown",
   "id": "4b4fbff6",
   "metadata": {},
   "source": [
    "Ans10.\n",
    "\n",
    "The main difference between both the statements is that when break keyword comes, it terminates the execution of the current loop and passes the control over the next loop or main body, whereas when continue keyword is encountered, it skips the current iteration and executes the very next iteration in the loop."
   ]
  },
  {
   "cell_type": "markdown",
   "id": "5f581c67",
   "metadata": {},
   "source": [
    "Ans11.\n",
    "\n",
    "There is no difference between range(10),range(0,10) and range(0,10,1)."
   ]
  },
  {
   "cell_type": "markdown",
   "id": "2f52bf18",
   "metadata": {},
   "source": [
    "Ans12."
   ]
  },
  {
   "cell_type": "code",
   "execution_count": 2,
   "id": "17503a69",
   "metadata": {},
   "outputs": [
    {
     "name": "stdout",
     "output_type": "stream",
     "text": [
      "1\n",
      "2\n",
      "3\n",
      "4\n",
      "5\n",
      "6\n",
      "7\n",
      "8\n",
      "9\n",
      "10\n",
      "1\n",
      "2\n",
      "3\n",
      "4\n",
      "5\n",
      "6\n",
      "7\n",
      "8\n",
      "9\n",
      "10\n"
     ]
    }
   ],
   "source": [
    "for i in range(1,11):\n",
    "    print(i)\n",
    "    \n",
    "a=1\n",
    "while a<11:\n",
    "    print(a)\n",
    "    a += 1"
   ]
  },
  {
   "cell_type": "markdown",
   "id": "6031e7f9",
   "metadata": {},
   "source": [
    "Ans13.\n",
    "\n",
    "the function can be called by spam.bacon()"
   ]
  }
 ],
 "metadata": {
  "kernelspec": {
   "display_name": "Python 3 (ipykernel)",
   "language": "python",
   "name": "python3"
  },
  "language_info": {
   "codemirror_mode": {
    "name": "ipython",
    "version": 3
   },
   "file_extension": ".py",
   "mimetype": "text/x-python",
   "name": "python",
   "nbconvert_exporter": "python",
   "pygments_lexer": "ipython3",
   "version": "3.9.7"
  }
 },
 "nbformat": 4,
 "nbformat_minor": 5
}
