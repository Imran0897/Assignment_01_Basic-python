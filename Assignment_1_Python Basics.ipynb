{
 "cells": [
  {
   "cell_type": "markdown",
   "id": "0b25af79",
   "metadata": {},
   "source": [
    "Ans1.\n",
    "\n",
    "'hello' - value\n",
    "-87.8   - value\n",
    "  (-)     - expression\n",
    " (/)    - expression\n",
    "  (+)    - expression\n",
    "  6     - value"
   ]
  },
  {
   "cell_type": "markdown",
   "id": "29bdb5d2",
   "metadata": {},
   "source": [
    "Ans2.\n",
    "\n",
    "Variable is a reserved memory location to store values or in other words variable is a label that we can assign a value to it whereas String is a array of bytes representing unicode characters.its wrapped inside single, double or triple quotes and it is an immutable sequence data type.A string can be assigned to a variable"
   ]
  },
  {
   "cell_type": "markdown",
   "id": "01ac573f",
   "metadata": {},
   "source": [
    "Ans3.\n",
    "\n",
    "(1)Numeric data type - Numeric data type represent the data which has numeric value.Numeric value can be integer,floating number or even complex numbers.\n",
    "     (a)Integer - This value represented by int class.it contains positive or negative whole numbers.\n",
    "     (b)Float - this value is represented by float class.it is a real number with floating point representation.it is specified                 by a decimal point. \n",
    "     (c)Complex number - complex number is represented by a complex class.it is specified as (real part) + (imaginary part).\n",
    "(2)Sequence data type - Sequence is a ordered collection of similar or different data type.sequence allows to store multiple values in an organized and efficient fashion.\n",
    "     (a)List - Lists are just like the arrays,declared in other languages which is a ordered collection of data.it is very                    flexible as the items in list do not need to be of same type.\n",
    "     (b)Tuple -Tuple is a also an ordered collection of objects.the only differece between list and tupple is that tuples are                  immutable i.e tuples cannot be modified after created.\n",
    "(3)Boolean - Data type with one of the two built-in values,True or False.Boolean objects that are equal to True are                          truthy(true),and those equal to false are falsy(False)."
   ]
  },
  {
   "cell_type": "markdown",
   "id": "7934a93f",
   "metadata": {},
   "source": [
    "Ans4.\n",
    "\n",
    "An expression is a combination of operators and operands that is interpreted to produce some other value.In any programming language,an expresssion is evaluated as per the precedence of its operators.so that if there is more than one operator in an expression,their precedence decides which operation will be performed first.An expression is a combination of values,variables,operators and calls to functions.expression need to be evaluated.if python is asked to print an expression ,the interpreter evaluates the expression and displays the result."
   ]
  },
  {
   "cell_type": "markdown",
   "id": "0a4976ea",
   "metadata": {},
   "source": [
    "Ans5.\n",
    "\n",
    "An expression is a combination of operators and operands that is interpreted to produce some other value whereas A statement is the smallest executable unit of code that has an effect,like creating a variable or displaying a value.evaluation of a expression always produces or returns a result value whereas execution of a statement may or may not produces or displays a result value,it only does whatever the statement says."
   ]
  },
  {
   "cell_type": "markdown",
   "id": "e9f3ec7b",
   "metadata": {},
   "source": [
    "Ans6."
   ]
  },
  {
   "cell_type": "code",
   "execution_count": 3,
   "id": "9fba1e1b",
   "metadata": {},
   "outputs": [
    {
     "data": {
      "text/plain": [
       "23"
      ]
     },
     "execution_count": 3,
     "metadata": {},
     "output_type": "execute_result"
    }
   ],
   "source": [
    "bacon = 22\n",
    "bacon+1"
   ]
  },
  {
   "cell_type": "markdown",
   "id": "cc11ddc9",
   "metadata": {},
   "source": [
    "bacon still contain 22"
   ]
  },
  {
   "cell_type": "markdown",
   "id": "b877e11e",
   "metadata": {},
   "source": [
    "Ans7."
   ]
  },
  {
   "cell_type": "code",
   "execution_count": 1,
   "id": "3aba3db8",
   "metadata": {},
   "outputs": [
    {
     "data": {
      "text/plain": [
       "'spamspamspam'"
      ]
     },
     "execution_count": 1,
     "metadata": {},
     "output_type": "execute_result"
    }
   ],
   "source": [
    "'spam'+'spamspam'"
   ]
  },
  {
   "cell_type": "code",
   "execution_count": 4,
   "id": "aec628a6",
   "metadata": {},
   "outputs": [
    {
     "data": {
      "text/plain": [
       "'spamspamspam'"
      ]
     },
     "execution_count": 4,
     "metadata": {},
     "output_type": "execute_result"
    }
   ],
   "source": [
    "'spam'*3"
   ]
  },
  {
   "cell_type": "markdown",
   "id": "1e3df90a",
   "metadata": {},
   "source": [
    "Ans8."
   ]
  },
  {
   "cell_type": "code",
   "execution_count": 10,
   "id": "5be50530",
   "metadata": {},
   "outputs": [],
   "source": [
    "eggs=\"wild\""
   ]
  },
  {
   "cell_type": "code",
   "execution_count": 11,
   "id": "76f3dbcf",
   "metadata": {},
   "outputs": [
    {
     "data": {
      "text/plain": [
       "'wild'"
      ]
     },
     "execution_count": 11,
     "metadata": {},
     "output_type": "execute_result"
    }
   ],
   "source": [
    "eggs"
   ]
  },
  {
   "cell_type": "code",
   "execution_count": 12,
   "id": "7ba2ee89",
   "metadata": {},
   "outputs": [
    {
     "ename": "SyntaxError",
     "evalue": "cannot assign to literal (Temp/ipykernel_1320/1498426584.py, line 1)",
     "output_type": "error",
     "traceback": [
      "\u001b[1;36m  File \u001b[1;32m\"C:\\Users\\Imran\\AppData\\Local\\Temp/ipykernel_1320/1498426584.py\"\u001b[1;36m, line \u001b[1;32m1\u001b[0m\n\u001b[1;33m    100=\"forest\"\u001b[0m\n\u001b[1;37m    ^\u001b[0m\n\u001b[1;31mSyntaxError\u001b[0m\u001b[1;31m:\u001b[0m cannot assign to literal\n"
     ]
    }
   ],
   "source": [
    "100=\"forest\""
   ]
  },
  {
   "cell_type": "markdown",
   "id": "101b03c3",
   "metadata": {},
   "source": [
    "Literals are defined as the raw data assigned to variables or constants while programming.so any positive,negative or zero natural numbers are numerical literals."
   ]
  },
  {
   "cell_type": "markdown",
   "id": "f99aca79",
   "metadata": {},
   "source": [
    "Ans9.\n",
    "\n",
    "for Integer - int()\n",
    "for Float   - float()\n",
    "for string  - str()"
   ]
  },
  {
   "cell_type": "markdown",
   "id": "df8835ee",
   "metadata": {},
   "source": [
    "Ans10."
   ]
  },
  {
   "cell_type": "code",
   "execution_count": 14,
   "id": "5ce4e7d7",
   "metadata": {},
   "outputs": [
    {
     "ename": "TypeError",
     "evalue": "can only concatenate str (not \"int\") to str",
     "output_type": "error",
     "traceback": [
      "\u001b[1;31m---------------------------------------------------------------------------\u001b[0m",
      "\u001b[1;31mTypeError\u001b[0m                                 Traceback (most recent call last)",
      "\u001b[1;32m~\\AppData\\Local\\Temp/ipykernel_1320/2406090937.py\u001b[0m in \u001b[0;36m<module>\u001b[1;34m\u001b[0m\n\u001b[1;32m----> 1\u001b[1;33m \u001b[1;34m'i have eaten'\u001b[0m\u001b[1;33m+\u001b[0m\u001b[1;36m99\u001b[0m\u001b[1;33m+\u001b[0m\u001b[1;34m'burritos.'\u001b[0m\u001b[1;33m\u001b[0m\u001b[1;33m\u001b[0m\u001b[0m\n\u001b[0m",
      "\u001b[1;31mTypeError\u001b[0m: can only concatenate str (not \"int\") to str"
     ]
    }
   ],
   "source": [
    "'i have eaten'+99+'burritos.'"
   ]
  },
  {
   "cell_type": "markdown",
   "id": "4b783d1c",
   "metadata": {},
   "source": [
    "As ovbious, concatenation operation can not be performed because the data types are different.so to perform concateation operation first the integer has to be converted into string. "
   ]
  },
  {
   "cell_type": "code",
   "execution_count": 15,
   "id": "4f64e206",
   "metadata": {},
   "outputs": [
    {
     "data": {
      "text/plain": [
       "'i have eaten99burritos.'"
      ]
     },
     "execution_count": 15,
     "metadata": {},
     "output_type": "execute_result"
    }
   ],
   "source": [
    "'i have eaten'+str(99)+'burritos.'"
   ]
  }
 ],
 "metadata": {
  "kernelspec": {
   "display_name": "Python 3 (ipykernel)",
   "language": "python",
   "name": "python3"
  },
  "language_info": {
   "codemirror_mode": {
    "name": "ipython",
    "version": 3
   },
   "file_extension": ".py",
   "mimetype": "text/x-python",
   "name": "python",
   "nbconvert_exporter": "python",
   "pygments_lexer": "ipython3",
   "version": "3.9.7"
  }
 },
 "nbformat": 4,
 "nbformat_minor": 5
}
